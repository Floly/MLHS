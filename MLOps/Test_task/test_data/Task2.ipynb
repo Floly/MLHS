{
 "cells": [
  {
   "cell_type": "markdown",
   "metadata": {
    "collapsed": true,
    "pycharm": {
     "name": "#%% md\n"
    }
   },
   "source": [
    "# Задача 2. Класс\n",
    "\n",
    "Напишите класс для интегрирования функций одной переменной без особенностей на конечном интервале.\n",
    "Что у класса должно быть:\n",
    "\n",
    "1. Выбор способа интегрирование: `trapeze` и `rectangle` (интегрирование методом трапеций и прямоугольников соответственно)\n",
    "\n",
    "2. Явное указание интервала интегрирования и количества отрезков, на которые этот интервал разбивается\n",
    "\n",
    "3. Возможность передать любую функцию одной переменной (которая на вход принимает вещественное число и возвращает тоже вещественное число), предполагается, что функция особенностей не имеет\n",
    "\n",
    "\n",
    "Пример вызова:\n",
    "\n",
    "trapeze_integrator = Integrator(-1, 1, 1000, 'trapeze')\n",
    "\n",
    "x3 = lambda x: x\\*\\*3\n",
    "\n",
    "trapeze_integrator.integrate(x3)\n",
    "\n",
    "Ну и результат такого интегрирования должен быть разумным) Для примера должно получиться что-то около 0."
   ]
  },
  {
   "cell_type": "code",
   "execution_count": 27,
   "outputs": [],
   "source": [
    "import numpy as np\n",
    "from typing import Callable"
   ],
   "metadata": {
    "collapsed": false,
    "pycharm": {
     "name": "#%%\n"
    }
   }
  },
  {
   "cell_type": "code",
   "execution_count": 110,
   "outputs": [],
   "source": [
    "class Integrator:\n",
    "    def __init__(self,\n",
    "                 left: float,\n",
    "                 right: float,\n",
    "                 parts_num: int,\n",
    "                 method: str):\n",
    "\n",
    "        self.left = left\n",
    "        self.right = right\n",
    "        self.parts_num = parts_num\n",
    "        self.method = method\n",
    "\n",
    "        self.check_arguments()\n",
    "\n",
    "        # Генерирую сетку и считаю её шаг\n",
    "        self.values = np.linspace(left, right, parts_num)\n",
    "        self.step = (right - left)/parts_num\n",
    "\n",
    "    def check_arguments(self):\n",
    "        '''\n",
    "        Проверяет аргументы\n",
    "        :return:\n",
    "        '''\n",
    "        condition = self.method not in (['rectangle', 'trapeze'])\n",
    "        if condition:\n",
    "            msg = 'Поддерживаются только методы: rectangle, trapeze'\n",
    "            raise KeyError(msg)\n",
    "\n",
    "        condition = self.left >= self.right\n",
    "        if condition:\n",
    "            msg = 'Левая граница интервала должна быть строго меньше правой'\n",
    "            raise KeyError(msg)\n",
    "\n",
    "        condition = self.parts_num <= 0\n",
    "        if condition:\n",
    "            msg = 'Число отрезков должно быть строго больше нуля'\n",
    "            raise KeyError(msg)\n",
    "\n",
    "    def trapeze_(self, function: Callable) -> float:\n",
    "        '''\n",
    "        Рассчитывает интеграл методом трапеций\n",
    "        :param function: функция для интегрирования\n",
    "        :return: значение определенного интеграла\n",
    "        '''\n",
    "        value = np.sum([function(x) for x in self.values[:-1]]) * self.step\n",
    "        # print(value)\n",
    "        return np.round(value,3)\n",
    "\n",
    "    def rectangle_(self, function: Callable) -> float:\n",
    "        '''\n",
    "        Рассчитывает интеграл методом левых прямоугольников\n",
    "        :param function: функция для интегрирования\n",
    "        :return: значение определенного интеграла\n",
    "        '''\n",
    "\n",
    "        value_1 = np.sum([function(x) for x in self.values[1:-1]]) * self.step\n",
    "        value_2 = (self.values[0]/2 + self.values[-1]/2) * self.step\n",
    "        value = (value_1 + value_2)\n",
    "        return np.round(value,3)\n",
    "\n",
    "\n",
    "    def integrate(self, function: Callable):\n",
    "        '''\n",
    "        Возвращает значение интеграла\n",
    "        :param function: вызываемая функция одной переменной\n",
    "        :return: значение интеграла\n",
    "        '''\n",
    "\n",
    "        if self.method == 'rectangle':\n",
    "            return self.rectangle_(function)\n",
    "\n",
    "        if self.method == 'trapeze':\n",
    "            return self.trapeze_(function)\n",
    "\n"
   ],
   "metadata": {
    "collapsed": false,
    "pycharm": {
     "name": "#%%\n"
    }
   }
  },
  {
   "cell_type": "markdown",
   "source": [
    "### Тесты"
   ],
   "metadata": {
    "collapsed": false,
    "pycharm": {
     "name": "#%% md\n"
    }
   }
  },
  {
   "cell_type": "code",
   "execution_count": 111,
   "outputs": [
    {
     "data": {
      "text/plain": "4999.99"
     },
     "execution_count": 111,
     "metadata": {},
     "output_type": "execute_result"
    }
   ],
   "source": [
    "# Метод трапеций\n",
    "f = lambda x: x\n",
    "integr = Integrator(0, 100, int(1e6),'trapeze')\n",
    "integr.integrate(f)"
   ],
   "metadata": {
    "collapsed": false,
    "pycharm": {
     "name": "#%%\n"
    }
   }
  },
  {
   "cell_type": "code",
   "execution_count": 112,
   "outputs": [
    {
     "data": {
      "text/plain": "4999.995"
     },
     "execution_count": 112,
     "metadata": {},
     "output_type": "execute_result"
    }
   ],
   "source": [
    "# Метод прямоугольника\n",
    "f = lambda x: x\n",
    "integr = Integrator(0, 100, int(1e6),'rectangle')\n",
    "integr.integrate(f)"
   ],
   "metadata": {
    "collapsed": false,
    "pycharm": {
     "name": "#%%\n"
    }
   }
  },
  {
   "cell_type": "code",
   "execution_count": 113,
   "outputs": [
    {
     "ename": "KeyError",
     "evalue": "'Поддерживаются только методы: rectangle, trapeze'",
     "output_type": "error",
     "traceback": [
      "\u001B[0;31m---------------------------------------------------------------------------\u001B[0m",
      "\u001B[0;31mKeyError\u001B[0m                                  Traceback (most recent call last)",
      "Input \u001B[0;32mIn [113]\u001B[0m, in \u001B[0;36m<cell line: 3>\u001B[0;34m()\u001B[0m\n\u001B[1;32m      1\u001B[0m \u001B[38;5;66;03m# Ошибка метода\u001B[39;00m\n\u001B[1;32m      2\u001B[0m f \u001B[38;5;241m=\u001B[39m \u001B[38;5;28;01mlambda\u001B[39;00m x: x\n\u001B[0;32m----> 3\u001B[0m integr \u001B[38;5;241m=\u001B[39m \u001B[43mIntegrator\u001B[49m\u001B[43m(\u001B[49m\u001B[38;5;241;43m0\u001B[39;49m\u001B[43m,\u001B[49m\u001B[43m \u001B[49m\u001B[38;5;241;43m100\u001B[39;49m\u001B[43m,\u001B[49m\u001B[43m \u001B[49m\u001B[38;5;28;43mint\u001B[39;49m\u001B[43m(\u001B[49m\u001B[38;5;241;43m1e6\u001B[39;49m\u001B[43m)\u001B[49m\u001B[43m,\u001B[49m\u001B[38;5;124;43m'\u001B[39;49m\u001B[38;5;124;43mthis_method_does_not_exists\u001B[39;49m\u001B[38;5;124;43m'\u001B[39;49m\u001B[43m)\u001B[49m\n\u001B[1;32m      4\u001B[0m integr\u001B[38;5;241m.\u001B[39mintegrate(f)\n",
      "Input \u001B[0;32mIn [110]\u001B[0m, in \u001B[0;36mIntegrator.__init__\u001B[0;34m(self, left, right, parts_num, method)\u001B[0m\n\u001B[1;32m     10\u001B[0m \u001B[38;5;28mself\u001B[39m\u001B[38;5;241m.\u001B[39mparts_num \u001B[38;5;241m=\u001B[39m parts_num\n\u001B[1;32m     11\u001B[0m \u001B[38;5;28mself\u001B[39m\u001B[38;5;241m.\u001B[39mmethod \u001B[38;5;241m=\u001B[39m method\n\u001B[0;32m---> 13\u001B[0m \u001B[38;5;28;43mself\u001B[39;49m\u001B[38;5;241;43m.\u001B[39;49m\u001B[43mcheck_arguments\u001B[49m\u001B[43m(\u001B[49m\u001B[43m)\u001B[49m\n\u001B[1;32m     15\u001B[0m \u001B[38;5;66;03m# Генерирую сетку и считаю её шаг\u001B[39;00m\n\u001B[1;32m     16\u001B[0m \u001B[38;5;28mself\u001B[39m\u001B[38;5;241m.\u001B[39mvalues \u001B[38;5;241m=\u001B[39m np\u001B[38;5;241m.\u001B[39mlinspace(left, right, parts_num)\n",
      "Input \u001B[0;32mIn [110]\u001B[0m, in \u001B[0;36mIntegrator.check_arguments\u001B[0;34m(self)\u001B[0m\n\u001B[1;32m     25\u001B[0m \u001B[38;5;28;01mif\u001B[39;00m condition:\n\u001B[1;32m     26\u001B[0m     msg \u001B[38;5;241m=\u001B[39m \u001B[38;5;124m'\u001B[39m\u001B[38;5;124mПоддерживаются только методы: rectangle, trapeze\u001B[39m\u001B[38;5;124m'\u001B[39m\n\u001B[0;32m---> 27\u001B[0m     \u001B[38;5;28;01mraise\u001B[39;00m \u001B[38;5;167;01mKeyError\u001B[39;00m(msg)\n\u001B[1;32m     29\u001B[0m condition \u001B[38;5;241m=\u001B[39m \u001B[38;5;28mself\u001B[39m\u001B[38;5;241m.\u001B[39mleft \u001B[38;5;241m>\u001B[39m\u001B[38;5;241m=\u001B[39m \u001B[38;5;28mself\u001B[39m\u001B[38;5;241m.\u001B[39mright\n\u001B[1;32m     30\u001B[0m \u001B[38;5;28;01mif\u001B[39;00m condition:\n",
      "\u001B[0;31mKeyError\u001B[0m: 'Поддерживаются только методы: rectangle, trapeze'"
     ]
    }
   ],
   "source": [
    "# Ошибка метода\n",
    "f = lambda x: x\n",
    "integr = Integrator(0, 100, int(1e6),'this_method_does_not_exists')\n",
    "integr.integrate(f)"
   ],
   "metadata": {
    "collapsed": false,
    "pycharm": {
     "name": "#%%\n"
    }
   }
  },
  {
   "cell_type": "code",
   "execution_count": 115,
   "outputs": [
    {
     "ename": "KeyError",
     "evalue": "'Левая граница интервала должна быть строго меньше правой'",
     "output_type": "error",
     "traceback": [
      "\u001B[0;31m---------------------------------------------------------------------------\u001B[0m",
      "\u001B[0;31mKeyError\u001B[0m                                  Traceback (most recent call last)",
      "Input \u001B[0;32mIn [115]\u001B[0m, in \u001B[0;36m<cell line: 3>\u001B[0;34m()\u001B[0m\n\u001B[1;32m      1\u001B[0m \u001B[38;5;66;03m# Ошибка границ интервала\u001B[39;00m\n\u001B[1;32m      2\u001B[0m f \u001B[38;5;241m=\u001B[39m \u001B[38;5;28;01mlambda\u001B[39;00m x: x\n\u001B[0;32m----> 3\u001B[0m integr \u001B[38;5;241m=\u001B[39m \u001B[43mIntegrator\u001B[49m\u001B[43m(\u001B[49m\u001B[38;5;241;43m0\u001B[39;49m\u001B[43m,\u001B[49m\u001B[43m \u001B[49m\u001B[38;5;241;43m-\u001B[39;49m\u001B[38;5;241;43m12\u001B[39;49m\u001B[43m,\u001B[49m\u001B[43m \u001B[49m\u001B[38;5;28;43mint\u001B[39;49m\u001B[43m(\u001B[49m\u001B[38;5;241;43m1e6\u001B[39;49m\u001B[43m)\u001B[49m\u001B[43m,\u001B[49m\u001B[38;5;124;43m'\u001B[39;49m\u001B[38;5;124;43mrectangle\u001B[39;49m\u001B[38;5;124;43m'\u001B[39;49m\u001B[43m)\u001B[49m\n\u001B[1;32m      4\u001B[0m integr\u001B[38;5;241m.\u001B[39mintegrate(f)\n",
      "Input \u001B[0;32mIn [110]\u001B[0m, in \u001B[0;36mIntegrator.__init__\u001B[0;34m(self, left, right, parts_num, method)\u001B[0m\n\u001B[1;32m     10\u001B[0m \u001B[38;5;28mself\u001B[39m\u001B[38;5;241m.\u001B[39mparts_num \u001B[38;5;241m=\u001B[39m parts_num\n\u001B[1;32m     11\u001B[0m \u001B[38;5;28mself\u001B[39m\u001B[38;5;241m.\u001B[39mmethod \u001B[38;5;241m=\u001B[39m method\n\u001B[0;32m---> 13\u001B[0m \u001B[38;5;28;43mself\u001B[39;49m\u001B[38;5;241;43m.\u001B[39;49m\u001B[43mcheck_arguments\u001B[49m\u001B[43m(\u001B[49m\u001B[43m)\u001B[49m\n\u001B[1;32m     15\u001B[0m \u001B[38;5;66;03m# Генерирую сетку и считаю её шаг\u001B[39;00m\n\u001B[1;32m     16\u001B[0m \u001B[38;5;28mself\u001B[39m\u001B[38;5;241m.\u001B[39mvalues \u001B[38;5;241m=\u001B[39m np\u001B[38;5;241m.\u001B[39mlinspace(left, right, parts_num)\n",
      "Input \u001B[0;32mIn [110]\u001B[0m, in \u001B[0;36mIntegrator.check_arguments\u001B[0;34m(self)\u001B[0m\n\u001B[1;32m     30\u001B[0m \u001B[38;5;28;01mif\u001B[39;00m condition:\n\u001B[1;32m     31\u001B[0m     msg \u001B[38;5;241m=\u001B[39m \u001B[38;5;124m'\u001B[39m\u001B[38;5;124mЛевая граница интервала должна быть строго меньше правой\u001B[39m\u001B[38;5;124m'\u001B[39m\n\u001B[0;32m---> 32\u001B[0m     \u001B[38;5;28;01mraise\u001B[39;00m \u001B[38;5;167;01mKeyError\u001B[39;00m(msg)\n\u001B[1;32m     34\u001B[0m condition \u001B[38;5;241m=\u001B[39m \u001B[38;5;28mself\u001B[39m\u001B[38;5;241m.\u001B[39mparts_num \u001B[38;5;241m<\u001B[39m\u001B[38;5;241m=\u001B[39m \u001B[38;5;241m0\u001B[39m\n\u001B[1;32m     35\u001B[0m \u001B[38;5;28;01mif\u001B[39;00m condition:\n",
      "\u001B[0;31mKeyError\u001B[0m: 'Левая граница интервала должна быть строго меньше правой'"
     ]
    }
   ],
   "source": [
    "# Ошибка границ интервала\n",
    "f = lambda x: x\n",
    "integr = Integrator(0, -12, int(1e6),'rectangle')\n",
    "integr.integrate(f)"
   ],
   "metadata": {
    "collapsed": false,
    "pycharm": {
     "name": "#%%\n"
    }
   }
  },
  {
   "cell_type": "code",
   "execution_count": 116,
   "outputs": [
    {
     "ename": "KeyError",
     "evalue": "'Число отрезков должно быть строго больше нуля'",
     "output_type": "error",
     "traceback": [
      "\u001B[0;31m---------------------------------------------------------------------------\u001B[0m",
      "\u001B[0;31mKeyError\u001B[0m                                  Traceback (most recent call last)",
      "Input \u001B[0;32mIn [116]\u001B[0m, in \u001B[0;36m<cell line: 3>\u001B[0;34m()\u001B[0m\n\u001B[1;32m      1\u001B[0m \u001B[38;5;66;03m# Ошибка отрицательных отрезков\u001B[39;00m\n\u001B[1;32m      2\u001B[0m f \u001B[38;5;241m=\u001B[39m \u001B[38;5;28;01mlambda\u001B[39;00m x: x\n\u001B[0;32m----> 3\u001B[0m integr \u001B[38;5;241m=\u001B[39m \u001B[43mIntegrator\u001B[49m\u001B[43m(\u001B[49m\u001B[38;5;241;43m0\u001B[39;49m\u001B[43m,\u001B[49m\u001B[43m \u001B[49m\u001B[38;5;241;43m100\u001B[39;49m\u001B[43m,\u001B[49m\u001B[43m \u001B[49m\u001B[38;5;241;43m-\u001B[39;49m\u001B[38;5;241;43m2\u001B[39;49m\u001B[43m,\u001B[49m\u001B[38;5;124;43m'\u001B[39;49m\u001B[38;5;124;43mrectangle\u001B[39;49m\u001B[38;5;124;43m'\u001B[39;49m\u001B[43m)\u001B[49m\n\u001B[1;32m      4\u001B[0m integr\u001B[38;5;241m.\u001B[39mintegrate(f)\n",
      "Input \u001B[0;32mIn [110]\u001B[0m, in \u001B[0;36mIntegrator.__init__\u001B[0;34m(self, left, right, parts_num, method)\u001B[0m\n\u001B[1;32m     10\u001B[0m \u001B[38;5;28mself\u001B[39m\u001B[38;5;241m.\u001B[39mparts_num \u001B[38;5;241m=\u001B[39m parts_num\n\u001B[1;32m     11\u001B[0m \u001B[38;5;28mself\u001B[39m\u001B[38;5;241m.\u001B[39mmethod \u001B[38;5;241m=\u001B[39m method\n\u001B[0;32m---> 13\u001B[0m \u001B[38;5;28;43mself\u001B[39;49m\u001B[38;5;241;43m.\u001B[39;49m\u001B[43mcheck_arguments\u001B[49m\u001B[43m(\u001B[49m\u001B[43m)\u001B[49m\n\u001B[1;32m     15\u001B[0m \u001B[38;5;66;03m# Генерирую сетку и считаю её шаг\u001B[39;00m\n\u001B[1;32m     16\u001B[0m \u001B[38;5;28mself\u001B[39m\u001B[38;5;241m.\u001B[39mvalues \u001B[38;5;241m=\u001B[39m np\u001B[38;5;241m.\u001B[39mlinspace(left, right, parts_num)\n",
      "Input \u001B[0;32mIn [110]\u001B[0m, in \u001B[0;36mIntegrator.check_arguments\u001B[0;34m(self)\u001B[0m\n\u001B[1;32m     35\u001B[0m \u001B[38;5;28;01mif\u001B[39;00m condition:\n\u001B[1;32m     36\u001B[0m     msg \u001B[38;5;241m=\u001B[39m \u001B[38;5;124m'\u001B[39m\u001B[38;5;124mЧисло отрезков должно быть строго больше нуля\u001B[39m\u001B[38;5;124m'\u001B[39m\n\u001B[0;32m---> 37\u001B[0m     \u001B[38;5;28;01mraise\u001B[39;00m \u001B[38;5;167;01mKeyError\u001B[39;00m(msg)\n",
      "\u001B[0;31mKeyError\u001B[0m: 'Число отрезков должно быть строго больше нуля'"
     ]
    }
   ],
   "source": [
    "# Ошибка отрицательных отрезков\n",
    "f = lambda x: x\n",
    "integr = Integrator(0, 100, -2,'rectangle')\n",
    "integr.integrate(f)"
   ],
   "metadata": {
    "collapsed": false,
    "pycharm": {
     "name": "#%%\n"
    }
   }
  },
  {
   "cell_type": "code",
   "execution_count": null,
   "outputs": [],
   "source": [],
   "metadata": {
    "collapsed": false,
    "pycharm": {
     "name": "#%%\n"
    }
   }
  }
 ],
 "metadata": {
  "kernelspec": {
   "display_name": "Python 3",
   "language": "python",
   "name": "python3"
  },
  "language_info": {
   "codemirror_mode": {
    "name": "ipython",
    "version": 2
   },
   "file_extension": ".py",
   "mimetype": "text/x-python",
   "name": "python",
   "nbconvert_exporter": "python",
   "pygments_lexer": "ipython2",
   "version": "2.7.6"
  }
 },
 "nbformat": 4,
 "nbformat_minor": 0
}