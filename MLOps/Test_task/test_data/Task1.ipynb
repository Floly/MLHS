{
 "cells": [
  {
   "cell_type": "markdown",
   "source": [
    "# Задача 1. Уникальные ip\n",
    "\n",
    "\n",
    "Дан файл `access_log.txt`, строки которого начинаются с ip пользователей. Найти:\n",
    "\n",
    "1. количество уникальных ip\n",
    "2. 5 самых часто встречающихся и то, сколько раз они встречаются.\n"
   ],
   "metadata": {
    "collapsed": false
   }
  },
  {
   "cell_type": "code",
   "execution_count": 12,
   "outputs": [],
   "source": [
    "import re"
   ],
   "metadata": {
    "collapsed": false,
    "pycharm": {
     "name": "#%%\n"
    }
   }
  },
  {
   "cell_type": "code",
   "execution_count": 13,
   "outputs": [],
   "source": [
    "# Читаем файл\n",
    "with open('access_log.txt', 'r') as f:\n",
    "    logs = f.read().splitlines()\n"
   ],
   "metadata": {
    "collapsed": false,
    "pycharm": {
     "name": "#%%\n"
    }
   }
  },
  {
   "cell_type": "code",
   "execution_count": 65,
   "outputs": [],
   "source": [
    "def get_ip(log: str) -> str:\n",
    "    '''\n",
    "    Возвращает IP из лога с помощью регулярки\n",
    "    :param log: лог\n",
    "    :return: ip лога\n",
    "    '''\n",
    "    try:\n",
    "        match = re.match('\\d*\\.\\d*\\.\\d*\\.\\d*', log)\n",
    "        vals = match.span()\n",
    "        return log[vals[0]:vals[1]]\n",
    "\n",
    "    except:\n",
    "        pass"
   ],
   "metadata": {
    "collapsed": false,
    "pycharm": {
     "name": "#%%\n"
    }
   }
  },
  {
   "cell_type": "code",
   "execution_count": 66,
   "outputs": [
    {
     "name": "stdout",
     "output_type": "stream",
     "text": [
      "Всего уникальных IP: 1\n"
     ]
    }
   ],
   "source": [
    "unique_ips = set()\n",
    "\n",
    "for log in logs:\n",
    "    ip = get_ip(log)\n",
    "    unique_ips.add(ip)\n",
    "\n",
    "total_ips = len(unique_ips)\n",
    "print(f'Всего уникальных IP: %s' % total_ips)"
   ],
   "metadata": {
    "collapsed": false,
    "pycharm": {
     "name": "#%%\n"
    }
   }
  }
 ],
 "metadata": {
  "kernelspec": {
   "display_name": "Python 3",
   "language": "python",
   "name": "python3"
  },
  "language_info": {
   "codemirror_mode": {
    "name": "ipython",
    "version": 2
   },
   "file_extension": ".py",
   "mimetype": "text/x-python",
   "name": "python",
   "nbconvert_exporter": "python",
   "pygments_lexer": "ipython2",
   "version": "2.7.6"
  }
 },
 "nbformat": 4,
 "nbformat_minor": 0
}