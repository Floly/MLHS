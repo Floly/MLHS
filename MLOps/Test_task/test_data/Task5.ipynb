{
 "cells": [
  {
   "cell_type": "markdown",
   "source": [
    "# Задача 5. Про парсинг информации\n",
    "\n",
    "Есть сайт https://nplus1.ru/ , новости за дату на нем можно увидеть на страницах типа https://nplus1.ru/news/2023/03/28\n",
    "\n",
    "Используя парсер, посчитайте суммарную длину текстов статей (в количестве слов или в количестве символов, как вам будет удобнее), которые были на N+1 в списке новостей в Июле 2023 года (пройтись по всем датам июля, собрать тексты статей, посчитать длину в словах/символах).\n",
    "\n",
    "Пользуйтесь любыми удобными вам библиотеками"
   ],
   "metadata": {
    "collapsed": false,
    "pycharm": {
     "name": "#%% md\n"
    }
   }
  },
  {
   "cell_type": "code",
   "execution_count": 156,
   "outputs": [],
   "source": [
    "import time\n",
    "import requests\n",
    "\n",
    "from tqdm import tqdm\n",
    "from selenium import webdriver\n",
    "from bs4 import BeautifulSoup"
   ],
   "metadata": {
    "collapsed": false,
    "pycharm": {
     "name": "#%%\n"
    }
   }
  },
  {
   "cell_type": "code",
   "execution_count": 159,
   "outputs": [],
   "source": [
    "headers = { 'Accept-Language' : 'ru-RU,ru;q=0.9,en-US;q=0.8,en;q=0.7',\n",
    "            'User-Agent': 'Mozilla/5.0 (Macintosh; Intel Mac OS X 10_15_7) AppleWebKit/537.36 (KHTML, like Gecko) Chrome/116.0.0.0 Safari/537.36',\n",
    "            'Accept':'text/html,application/xhtml+xml,application/xml;q=0.9,image/avif,image/webp,image/apng,*/*;q=0.8,application/signed-exchange;v=b3;q=0.7'\n",
    "}\n",
    "\n",
    "def get_links(soup, domain):\n",
    "    '''\n",
    "    Ищет все ссылки на новости со страницы\n",
    "    :return: список строк - ссылок\n",
    "    '''\n",
    "    links = []\n",
    "    pages = soup.find('section',class_=r'mb-10').find_all('a', class_=\"n1_climb_4\")\n",
    "\n",
    "    for link in pages:\n",
    "        try:\n",
    "            links.append(link.get('href'))\n",
    "        except:\n",
    "            pass\n",
    "    links = [domain + l if 'https' not in l else l for l in links]\n",
    "    return links\n",
    "\n",
    "def get_chars(link):\n",
    "    '''\n",
    "    Считает число символов в новости по ссылке\n",
    "    :return: число символов\n",
    "    '''\n",
    "    mystr = requests.get(link,\n",
    "                         headers=headers).text\n",
    "    soup = BeautifulSoup(mystr)\n",
    "    try:\n",
    "        text = soup.find_all('div', class_=\"col-span-6\")[5].text\n",
    "        chars = len(''.join(text.splitlines()).strip().replace(' ',''))\n",
    "    except:\n",
    "        pass\n",
    "    return chars"
   ],
   "metadata": {
    "collapsed": false,
    "pycharm": {
     "name": "#%%\n"
    }
   }
  },
  {
   "cell_type": "code",
   "execution_count": 162,
   "outputs": [
    {
     "name": "stderr",
     "output_type": "stream",
     "text": [
      "100%|██████████| 219/219 [01:55<00:00,  1.90it/s]"
     ]
    },
    {
     "name": "stdout",
     "output_type": "stream",
     "text": [
      "657092\n"
     ]
    },
    {
     "name": "stderr",
     "output_type": "stream",
     "text": [
      "\n"
     ]
    }
   ],
   "source": [
    "basis = 'https://nplus1.ru/news/2023/07/'\n",
    "urls = [basis + str(x) for x in range(1, 32)]\n",
    "\n",
    "links=[]\n",
    "driver = webdriver.Chrome('../chromedriver')\n",
    "\n",
    "# Собираем все ссылки на новости\n",
    "for url in urls:\n",
    "    driver.get(url)\n",
    "    pageSource = driver.page_source\n",
    "\n",
    "    soup = BeautifulSoup(pageSource)#.find('section', class_='mb-10')\n",
    "    links.extend(get_links(soup, domain=url))\n",
    "driver.quit()\n",
    "\n",
    "# Считаем число символов в каждой новости\n",
    "symbols = 0\n",
    "for link in tqdm(links):\n",
    "    symbols += get_chars(link)\n",
    "    # time.sleep(0.1)\n",
    "\n",
    "print(symbols)"
   ],
   "metadata": {
    "collapsed": false,
    "pycharm": {
     "name": "#%%\n"
    }
   }
  }
 ],
 "metadata": {
  "kernelspec": {
   "display_name": "Python 3",
   "language": "python",
   "name": "python3"
  },
  "language_info": {
   "codemirror_mode": {
    "name": "ipython",
    "version": 2
   },
   "file_extension": ".py",
   "mimetype": "text/x-python",
   "name": "python",
   "nbconvert_exporter": "python",
   "pygments_lexer": "ipython2",
   "version": "2.7.6"
  }
 },
 "nbformat": 4,
 "nbformat_minor": 0
}